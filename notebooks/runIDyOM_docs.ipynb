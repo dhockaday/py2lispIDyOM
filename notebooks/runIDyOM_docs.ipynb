{
 "cells": [
  {
   "cell_type": "markdown",
   "metadata": {
    "collapsed": true,
    "pycharm": {
     "name": "#%% md\n"
    }
   },
   "source": [
    "# Run IDyOM documentation"
   ]
  },
  {
   "cell_type": "markdown",
   "source": [
    "class run.IDyOMExperiment\n",
    "\n",
    "Keyword arguments:\n",
    "test_dataset_path: str               -- the path to your test dataset (required)\n",
    "pretrain_dataset_path: str           -- the path to your pretrain dataset (if using )\n",
    "experiment_history_folder_path: str  -- the path to which you want to save all the result data/plots (if leave blank, by default, a folder called `experiment_history` that hosts all data for the current experiment will be created when you run the IDyOM model)."
   ],
   "metadata": {
    "collapsed": false,
    "pycharm": {
     "name": "#%% md\n"
    }
   }
  },
  {
   "cell_type": "code",
   "execution_count": null,
   "outputs": [],
   "source": [],
   "metadata": {
    "collapsed": false,
    "pycharm": {
     "name": "#%%\n"
    }
   }
  }
 ],
 "metadata": {
  "kernelspec": {
   "display_name": "Python 3",
   "language": "python",
   "name": "python3"
  },
  "language_info": {
   "codemirror_mode": {
    "name": "ipython",
    "version": 2
   },
   "file_extension": ".py",
   "mimetype": "text/x-python",
   "name": "python",
   "nbconvert_exporter": "python",
   "pygments_lexer": "ipython2",
   "version": "2.7.6"
  }
 },
 "nbformat": 4,
 "nbformat_minor": 0
}
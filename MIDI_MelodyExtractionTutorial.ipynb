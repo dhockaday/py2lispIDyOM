{
 "cells": [
  {
   "cell_type": "markdown",
   "metadata": {},
   "source": [
    "## Extracting melodic lines from MIDI files\n",
    "\n",
    "This script assumes the melody is contained in the first channel of the first track of the MIDI file. \n",
    "\n",
    "Go to the desired section to converting polyphonic midi music to single melody MIDI. \n",
    "Section 1: for single MIDI file\n",
    "Section 2: for MIDI file folder\n",
    "\n",
    "#### Current melody extraction criterion: \n",
    "When two notes happen at the same time, only the top one will remain.\n",
    "\n",
    "It works well with **quantized** midi. "
   ]
  },
  {
   "cell_type": "code",
   "execution_count": 39,
   "metadata": {},
   "outputs": [],
   "source": [
    "import numpy as np\n",
    "import mido\n",
    "import os\n",
    "import shutil\n",
    "from midi_melody_extractor import midi_file_melody_only"
   ]
  },
  {
   "cell_type": "markdown",
   "metadata": {
    "pycharm": {
     "name": "#%%\n"
    }
   },
   "source": [
    "### Section 1: MIDI file -> MIDI file (melody only) \n",
    "\n",
    "output file name would be 'melody_only_'+ orginal file name"
   ]
  },
  {
   "cell_type": "code",
   "execution_count": 57,
   "metadata": {
    "pycharm": {
     "name": "#%%\n"
    }
   },
   "outputs": [],
   "source": [
    "def process(input_file_path,output_path):\n",
    "    result = midi_file_melody_only(input_file_path)\n",
    "    input_name = result.filename\n",
    "    output_name = 'melody_only_'+ input_name\n",
    "    result.save(output_path + output_name)"
   ]
  },
  {
   "cell_type": "code",
   "execution_count": null,
   "metadata": {},
   "outputs": [],
   "source": [
    "## Specify the input and output paths in this block:\n",
    "input_file_path = 'haydn_no34_1.mid'\n",
    "output_path = './'\n",
    "## \n",
    "process(input_file_path,output_path)"
   ]
  },
  {
   "cell_type": "markdown",
   "metadata": {},
   "source": [
    "### Section 2: Folder of MIDI files -> Folder of MIDI files (melody only) \n",
    "\n",
    "ouput file folder name would be 'melody_only'+ original folder name, which contains all the ouput single-melody MIDI files."
   ]
  },
  {
   "cell_type": "code",
   "execution_count": 54,
   "metadata": {},
   "outputs": [],
   "source": [
    "def find_name(string):\n",
    "    index = string.rfind('/')\n",
    "    return string[index+1:]\n",
    "\n",
    "def batch_process(input_folder_path,output_path):\n",
    "    \n",
    "    output_folder_name = 'melody_only_'+find_name(input_folder_path)\n",
    "    output_folder_path = output_path+output_folder_name\n",
    "\n",
    "\n",
    "    if os.path.exists(output_folder_path+'/'):\n",
    "        shutil.rmtree(output_folder_path+'/')\n",
    "    os.makedirs(output_folder_path+'/')\n",
    "\n",
    "\n",
    "    for files in os.listdir(input_folder_path):\n",
    "\n",
    "        input_file_path = input_folder_path +'/'+ files\n",
    "        input_file_name = find_name(input_file_path)\n",
    "        result = midi_file_melody_only(input_file_path)\n",
    "        result.filename = 'melody_only_'+input_file_name\n",
    "        result.save(output_folder_path+'/'+result.filename)\n"
   ]
  },
  {
   "cell_type": "code",
   "execution_count": 55,
   "metadata": {},
   "outputs": [],
   "source": [
    "## Specify the input and output paths in this block:\n",
    "input_folder_path = 'dataset/mydata'\n",
    "output_path = ''\n",
    "##\n",
    "batch_process(input_folder_path,output_path)"
   ]
  }
 ],
 "metadata": {
  "kernelspec": {
   "display_name": "Python 3",
   "language": "python",
   "name": "python3"
  },
  "language_info": {
   "codemirror_mode": {
    "name": "ipython",
    "version": 3
   },
   "file_extension": ".py",
   "mimetype": "text/x-python",
   "name": "python",
   "nbconvert_exporter": "python",
   "pygments_lexer": "ipython3",
   "version": "3.9.0"
  }
 },
 "nbformat": 4,
 "nbformat_minor": 1
}
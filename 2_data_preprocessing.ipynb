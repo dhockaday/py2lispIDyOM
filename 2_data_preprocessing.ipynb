{
 "cells": [
  {
   "cell_type": "markdown",
   "id": "a2096734",
   "metadata": {},
   "source": [
    "# Data preprocessing\n",
    "\n",
    "This tutorial will cover how to extract certain IDyOM outputs (for analysis in python) and export them in different\n",
    "formats using py2lispIDyOM, given that you already have the `.dat` file output. For an overview of the py2lispIDyOM functionality, see the [README](../README.md).\n",
    "\n",
    "---\n",
    "### Content\n",
    "\n",
    "[1. Extracting IDyOM output data](#1-extracting-idyom-output-data)"
   ]
  },
  {
   "cell_type": "markdown",
   "id": "f03aa743",
   "metadata": {},
   "source": [
    "## 1. Extracting IDyOM output data\n",
    "\n",
    "\n",
    "Given that you already have the `.dat` file output, you can extract certain properties of certain melodies from that file. \n",
    "\n",
    "We will continue the sample example as in the running IDyOM tutorial, and extract some IDyOM outputs from that experiment, where the log folder is `experiment_history/21-05-22_17.05.05/`\n"
   ]
  },
  {
   "cell_type": "code",
   "execution_count": 3,
   "id": "333ce80d",
   "metadata": {},
   "outputs": [],
   "source": [
    "# import ExperimentInfo\n",
    "from py2lispIDyOM.extract import ExperimentInfo"
   ]
  },
  {
   "cell_type": "markdown",
   "id": "95f4a397",
   "metadata": {},
   "source": [
    "### Indicate the experiment log folder that you want to work with:\n",
    "\n",
    "To start, users need to indicate the experiment log folder that you want to work with by providing the log\n",
    "path `experiment_folder_path`. "
   ]
  },
  {
   "cell_type": "code",
   "execution_count": 4,
   "id": "148ebeef",
   "metadata": {},
   "outputs": [],
   "source": [
    "# Set experiment_folder_path:\n",
    "my_experiment = ExperimentInfo(experiment_folder_path='experiment_history/21-05-22_17.05.05/')\n"
   ]
  },
  {
   "cell_type": "markdown",
   "id": "0964280f",
   "metadata": {},
   "source": [
    "### Experiment Info: to access some melodies in that experiment:\n",
    "\n",
    "There are two ways to access melodies in the experiment:\n",
    "1. Access a specific melody using `melodies_dict` by passing the melody name.\n",
    "  - This returns a DataFrame of all IDyOM outputs for this melody.\n",
    "   \n",
    "   \n",
    "2. Access specific melodies using the method `access_melodies(starting_index=None, ending_index=None, melody_names=None)` \n",
    "  - This returns a list of DataFrame of all IDyOM outputs for selected melodies.\n",
    "    "
   ]
  },
  {
   "cell_type": "code",
   "execution_count": 13,
   "id": "daf2adc2",
   "metadata": {},
   "outputs": [
    {
     "name": "stdout",
     "output_type": "stream",
     "text": [
      "      dataset.id  melody.id  note.id melody.name vertint12  articulation  \\\n",
      "0   6.605212e+13       12.0      1.0  \"chor-012\"        NA           0.0   \n",
      "1   6.605212e+13       12.0      2.0  \"chor-012\"        NA           0.0   \n",
      "2   6.605212e+13       12.0      3.0  \"chor-012\"        NA           0.0   \n",
      "3   6.605212e+13       12.0      4.0  \"chor-012\"        NA           0.0   \n",
      "4   6.605212e+13       12.0      5.0  \"chor-012\"        NA           0.0   \n",
      "5   6.605212e+13       12.0      6.0  \"chor-012\"        NA           0.0   \n",
      "6   6.605212e+13       12.0      7.0  \"chor-012\"        NA           0.0   \n",
      "7   6.605212e+13       12.0      8.0  \"chor-012\"        NA           0.0   \n",
      "8   6.605212e+13       12.0      9.0  \"chor-012\"        NA           0.0   \n",
      "9   6.605212e+13       12.0     10.0  \"chor-012\"        NA           0.0   \n",
      "10  6.605212e+13       12.0     11.0  \"chor-012\"        NA           0.0   \n",
      "11  6.605212e+13       12.0     12.0  \"chor-012\"        NA           0.0   \n",
      "12  6.605212e+13       12.0     13.0  \"chor-012\"        NA           0.0   \n",
      "13  6.605212e+13       12.0     14.0  \"chor-012\"        NA           0.0   \n",
      "14  6.605212e+13       12.0     15.0  \"chor-012\"        NA           0.0   \n",
      "15  6.605212e+13       12.0     16.0  \"chor-012\"        NA           0.0   \n",
      "16  6.605212e+13       12.0     17.0  \"chor-012\"        NA           0.0   \n",
      "17  6.605212e+13       12.0     18.0  \"chor-012\"        NA           0.0   \n",
      "18  6.605212e+13       12.0     19.0  \"chor-012\"        NA           0.0   \n",
      "19  6.605212e+13       12.0     20.0  \"chor-012\"        NA           0.0   \n",
      "20  6.605212e+13       12.0     21.0  \"chor-012\"        NA           0.0   \n",
      "21  6.605212e+13       12.0     22.0  \"chor-012\"        NA           0.0   \n",
      "22  6.605212e+13       12.0     23.0  \"chor-012\"        NA           0.0   \n",
      "23  6.605212e+13       12.0     24.0  \"chor-012\"        NA           0.0   \n",
      "24  6.605212e+13       12.0     25.0  \"chor-012\"        NA           0.0   \n",
      "25  6.605212e+13       12.0     26.0  \"chor-012\"        NA           0.0   \n",
      "26  6.605212e+13       12.0     27.0  \"chor-012\"        NA           0.0   \n",
      "27  6.605212e+13       12.0     28.0  \"chor-012\"        NA           0.0   \n",
      "28  6.605212e+13       12.0     29.0  \"chor-012\"        NA           0.0   \n",
      "29  6.605212e+13       12.0     30.0  \"chor-012\"        NA           0.0   \n",
      "30  6.605212e+13       12.0     31.0  \"chor-012\"        NA           0.0   \n",
      "\n",
      "    comma  voice  ornament dyn  ...  onset.18  onset.24  onset.36  onset.48  \\\n",
      "0     0.0    1.0       0.0  NA  ...  0.069163  0.108389  0.089951  0.130606   \n",
      "1     0.0    1.0       0.0  NA  ...  0.215268  0.083398  0.023693  0.040086   \n",
      "2     0.0    1.0       0.0  NA  ...  0.064587  0.535028  0.080391  0.048375   \n",
      "3     0.0    1.0       0.0  NA  ...  0.121740  0.356607  0.024939  0.029701   \n",
      "4     0.0    1.0       0.0  NA  ...  0.005699  0.192398  0.015870  0.016998   \n",
      "5     0.0    1.0       0.0  NA  ...  0.113231  0.077657  0.077657  0.080017   \n",
      "6     0.0    1.0       0.0  NA  ...  0.028371  0.105038  0.013260  0.016347   \n",
      "7     0.0    1.0       0.0  NA  ...  0.267783  0.091818  0.032460  0.042607   \n",
      "8     0.0    1.0       0.0  NA  ...  0.011060  0.196659  0.024893  0.028715   \n",
      "9     0.0    1.0       0.0  NA  ...  0.193435  0.023433  0.023433  0.026460   \n",
      "10    0.0    1.0       0.0  NA  ...  0.011080  0.166016  0.028406  0.032707   \n",
      "11    0.0    1.0       0.0  NA  ...  0.066150  0.117944  0.045238  0.056585   \n",
      "12    0.0    1.0       0.0  NA  ...  0.014655  0.648461  0.010516  0.010516   \n",
      "13    0.0    1.0       0.0  NA  ...  0.046266  0.315797  0.046266  0.086085   \n",
      "14    0.0    1.0       0.0  NA  ...  0.041449  0.368062  0.041449  0.096666   \n",
      "15    0.0    1.0       0.0  NA  ...  0.041449  0.368062  0.041449  0.096666   \n",
      "16    0.0    1.0       0.0  NA  ...  0.036796  0.429145  0.036796  0.116969   \n",
      "17    0.0    1.0       0.0  NA  ...  0.032738  0.507358  0.032738  0.032738   \n",
      "18    0.0    1.0       0.0  NA  ...  0.048937  0.048937  0.048937  0.048937   \n",
      "19    0.0    1.0       0.0  NA  ...  0.071475  0.071475  0.071475  0.071475   \n",
      "20    0.0    1.0       0.0  NA  ...  0.071475  0.071475  0.071475  0.071475   \n",
      "21    0.0    1.0       0.0  NA  ...  0.071475  0.071475  0.071475  0.071475   \n",
      "22    0.0    1.0       0.0  NA  ...  0.071475  0.071475  0.071475  0.071475   \n",
      "23    0.0    1.0       0.0  NA  ...  0.071475  0.071475  0.071475  0.071475   \n",
      "24    0.0    1.0       0.0  NA  ...  0.071475  0.071475  0.071475  0.071475   \n",
      "25    0.0    1.0       0.0  NA  ...  0.071475  0.071475  0.071475  0.071475   \n",
      "26    0.0    1.0       0.0  NA  ...  0.071475  0.071475  0.071475  0.071475   \n",
      "27    0.0    1.0       0.0  NA  ...  0.071475  0.071475  0.071475  0.071475   \n",
      "28    0.0    1.0       0.0  NA  ...  0.071475  0.071475  0.071475  0.071475   \n",
      "29    0.0    1.0       0.0  NA  ...  0.071475  0.071475  0.071475  0.071475   \n",
      "30    0.0    1.0       0.0  NA  ...  0.071475  0.071475  0.071475  0.071475   \n",
      "\n",
      "    onset.72  onset.120  probability  information.content   entropy  \\\n",
      "0   0.130606   0.125256     0.004055             7.945978  8.166577   \n",
      "1   0.040086   0.037790     0.005786             7.433325  7.022451   \n",
      "2   0.048375   0.048375     0.031582             4.984756  4.881182   \n",
      "3   0.028123   0.009872     0.011077             6.496335  5.746488   \n",
      "4   0.018125   0.018125     0.048472             4.366702  5.291978   \n",
      "5   0.043719   0.072700     0.007871             6.989316  7.123601   \n",
      "6   0.051517   0.048669     0.019845             5.655067  5.447203   \n",
      "7   0.040106   0.042607     0.002457             8.669009  5.044505   \n",
      "8   0.471100   0.032497     0.002324             8.748941  5.526692   \n",
      "9   0.024948   0.008068     0.001581             9.304609  6.056644   \n",
      "10  0.034855   0.006698     0.047587             4.393278  5.147671   \n",
      "11  0.020384   0.016922     0.047720             4.389259  5.703556   \n",
      "12  0.008438   0.008438     0.000582            10.747887  3.765447   \n",
      "13  0.086085   0.086085     0.001754             9.154955  5.892540   \n",
      "14  0.096666   0.041449     0.034336             4.864124  7.016802   \n",
      "15  0.096666   0.041449     0.032692             4.934914  6.382860   \n",
      "16  0.036796   0.036796     0.004449             7.812364  4.985937   \n",
      "17  0.032738   0.032738     0.221689             2.173392  5.078086   \n",
      "18  0.048937   0.048937     0.006712             7.219008  4.581941   \n",
      "19  0.071475   0.071475     0.004367             7.839179  6.053847   \n",
      "20  0.071475   0.071475     0.005319             7.554738  5.934624   \n",
      "21  0.071475   0.071475     0.048676             4.360633  5.152714   \n",
      "22  0.071475   0.071475     0.041270             4.598770  5.460558   \n",
      "23  0.071475   0.071475     0.019223             5.701044  6.356779   \n",
      "24  0.071475   0.071475     0.021635             5.530499  5.941483   \n",
      "25  0.071475   0.071475     0.003628             8.106473  5.508440   \n",
      "26  0.071475   0.071475     0.018458             5.759634  6.264733   \n",
      "27  0.071475   0.071475     0.011388             6.456328  6.271060   \n",
      "28  0.071475   0.071475     0.054201             4.205528  4.788754   \n",
      "29  0.071475   0.071475     0.047520             4.395319  5.136540   \n",
      "30  0.071475   0.071475     0.031558             4.985858  5.510000   \n",
      "\n",
      "   information.gain  \n",
      "0                NA  \n",
      "1          1.122545  \n",
      "2          2.702558  \n",
      "3          0.942574  \n",
      "4          1.959542  \n",
      "5          1.994862  \n",
      "6          1.374084  \n",
      "7          2.161627  \n",
      "8          3.825893  \n",
      "9           2.76596  \n",
      "10          0.99575  \n",
      "11         0.902952  \n",
      "12         2.129932  \n",
      "13          1.16337  \n",
      "14          0.58589  \n",
      "15         0.271728  \n",
      "16         1.935903  \n",
      "17         0.683338  \n",
      "18         2.941365  \n",
      "19         2.065624  \n",
      "20         0.252211  \n",
      "21         0.972446  \n",
      "22         1.956564  \n",
      "23         0.937542  \n",
      "24         0.297714  \n",
      "25          0.63992  \n",
      "26         0.351777  \n",
      "27         0.143677  \n",
      "28         1.379553  \n",
      "29         2.574325  \n",
      "30         1.474449  \n",
      "\n",
      "[31 rows x 86 columns]\n"
     ]
    }
   ],
   "source": [
    "# Access the melody named '\"chor-012\"' using `melodies_dict`:\n",
    "\n",
    "selected_melody = my_experiment.melodies_dict['\"chor-012\"']\n",
    "\n",
    "print(selected_melody)"
   ]
  },
  {
   "cell_type": "code",
   "execution_count": 20,
   "id": "65337f90",
   "metadata": {
    "scrolled": false
   },
   "outputs": [],
   "source": [
    "# Access the melody named '\"chor-010\"',\"chor-011\"' using the `access_melodies` method.\n",
    "\n",
    "selected_melodies = my_experiment.access_melodies(melody_names = ['\"chor-010\"','\"chor-011\"'])\n",
    "\n",
    "# print(selected_melodies)\n"
   ]
  },
  {
   "cell_type": "code",
   "execution_count": 21,
   "id": "a8c49994",
   "metadata": {},
   "outputs": [],
   "source": [
    "# Access the first 3 melodies using the `access_melodies` method.\n",
    "\n",
    "selected_melodies = my_experiment.access_melodies(ending_index=3)\n",
    "\n",
    "# print(selected_melodies)\n"
   ]
  },
  {
   "cell_type": "markdown",
   "id": "b3e79406",
   "metadata": {},
   "source": [
    "### Melody Info: to further access melody-specific information\n",
    "\n",
    "For each melody in the experiment, all data are stored in the `MelodyInfo` class which is essentially a panda.DataFrame. To create an instance of `MelodyInfo`, we can use `ExperimentInfo.melodies_dict`, or `ExperimentInfo.access_melodies` as showed above."
   ]
  },
  {
   "cell_type": "code",
   "execution_count": 24,
   "id": "16345b51",
   "metadata": {},
   "outputs": [],
   "source": [
    "# first, access the melody:\n",
    "selected_melody = my_experiment.melodies_dict['\"chor-002\"']\n"
   ]
  },
  {
   "cell_type": "markdown",
   "id": "c997012c",
   "metadata": {},
   "source": [
    "Note that here, `selected_melody` is an instance of `MelodyInfo`."
   ]
  },
  {
   "cell_type": "markdown",
   "id": "d55077b7",
   "metadata": {},
   "source": [
    "#### Check the valid IDyOM output keywords for selected melody"
   ]
  },
  {
   "cell_type": "code",
   "execution_count": 25,
   "id": "482338bd",
   "metadata": {},
   "outputs": [
    {
     "name": "stdout",
     "output_type": "stream",
     "text": [
      "['dataset.id', 'melody.id', 'note.id', 'melody.name', 'vertint12', 'articulation', 'comma', 'voice', 'ornament', 'dyn', 'phrase', 'bioi', 'deltast', 'accidental', 'mpitch', 'cpitch', 'barlength', 'pulses', 'tempo', 'mode', 'keysig', 'dur', 'onset', 'cpitch.order.ltm.cpitch', 'cpitch.order.stm.cpitch', 'cpitch.weight.ltm', 'cpitch.weight.stm', 'cpitch.weight.ltm.cpitch', 'cpitch.weight.stm.cpitch', 'cpitch.probability', 'cpitch.information.content', 'cpitch.entropy', 'cpitch.55', 'cpitch.57', 'cpitch.58', 'cpitch.59', 'cpitch.60', 'cpitch.62', 'cpitch.63', 'cpitch.64', 'cpitch.65', 'cpitch.66', 'cpitch.67', 'cpitch.68', 'cpitch.69', 'cpitch.70', 'cpitch.71', 'cpitch.72', 'cpitch.73', 'cpitch.74', 'cpitch.75', 'cpitch.76', 'cpitch.77', 'cpitch.78', 'cpitch.79', 'cpitch.81', 'cpitch.82', 'cpitch.83', 'cpitch.84', 'cpitch.85', 'cpitch.86', 'cpitch.88', 'onset.order.ltm.onset', 'onset.order.stm.onset', 'onset.weight.ltm', 'onset.weight.stm', 'onset.weight.ltm.onset', 'onset.weight.stm.onset', 'onset.probability', 'onset.information.content', 'onset.entropy', 'onset.0', 'onset.3', 'onset.6', 'onset.9', 'onset.12', 'onset.18', 'onset.24', 'onset.36', 'onset.48', 'onset.72', 'onset.120', 'probability', 'information.content', 'entropy', 'information.gain']\n"
     ]
    }
   ],
   "source": [
    "# check the valid IDyOM output keywords for this selected_melody:\n",
    "\n",
    "valid_idyom_output_key_list = selected_melody.get_idyom_output_keyword_list()\n",
    "\n",
    "print(valid_idyom_output_key_list)"
   ]
  },
  {
   "cell_type": "markdown",
   "id": "6b128c1d",
   "metadata": {},
   "source": [
    "The list above shows all the valid IDyOM output keys available for the melody '\"chor-002\"'.\n",
    "Now, we want to access the following data: `cpitch.information.content`, `onset.information.content`, `entropy`"
   ]
  },
  {
   "cell_type": "markdown",
   "id": "edc734e9",
   "metadata": {},
   "source": [
    "#### Access IDyOM output data via keywords\n",
    "\n",
    "We will use the `MelodyInfo` method called `access_idyom_output_keywords`.\n",
    "\n",
    "You need to pass a list of keywords to the method, and it will return a dataframe."
   ]
  },
  {
   "cell_type": "code",
   "execution_count": 26,
   "id": "ea9a6616",
   "metadata": {},
   "outputs": [
    {
     "name": "stdout",
     "output_type": "stream",
     "text": [
      "    cpitch.information.content  onset.information.content   entropy\n",
      "0                     5.065964                   2.880014  8.166577\n",
      "1                     5.472063                   3.583843  7.022451\n",
      "2                     4.075408                   0.902314  6.759365\n",
      "3                     6.103196                   1.487593  5.508813\n",
      "4                     2.547856                   2.377832  5.474818\n",
      "5                     5.943005                   3.686743  6.267564\n",
      "6                     3.631144                   3.251021  5.693554\n",
      "7                     7.146198                   1.028696  4.829847\n",
      "8                     3.317424                   0.899349  6.363213\n",
      "9                     2.924594                   1.044276  5.423235\n",
      "10                    3.381295                   5.122056  5.354833\n",
      "11                    6.861183                   2.590604  5.034352\n",
      "12                    5.999832                   3.083826  5.695037\n",
      "13                    2.485237                   0.624909  5.292224\n",
      "14                    1.319635                   0.973895  4.940844\n",
      "15                    1.627279                   1.630016  6.349461\n",
      "16                    2.202613                   1.662930  6.544269\n",
      "17                    1.884819                   1.441977  6.277746\n",
      "18                    2.316770                   1.441977  6.411900\n",
      "19                    2.098347                   1.220463  6.011344\n",
      "20                    6.917303                   0.978923  5.887434\n",
      "21                    4.393350                   4.352934  6.839952\n",
      "22                    3.123153                   3.806420  6.760173\n",
      "23                    3.312759                   3.806420  6.465666\n",
      "24                    2.300198                   3.806420  6.799645\n",
      "25                    5.182126                   3.806420  6.553230\n",
      "26                    2.810618                   3.806420  6.445196\n",
      "27                    2.796724                   3.806420  6.697904\n",
      "28                    1.278891                   3.806420  5.969671\n",
      "29                    2.423566                   3.806420  6.520202\n",
      "30                    4.244037                   3.806420  5.935160\n",
      "31                    3.515164                   3.806420  6.649951\n",
      "32                    2.031623                   3.806420  6.340725\n",
      "33                    0.658316                   3.806420  5.169728\n",
      "34                    0.922583                   3.806420  5.658613\n",
      "35                    1.034952                   3.806420  5.886921\n",
      "36                    0.730889                   3.806420  5.345791\n",
      "37                    1.807962                   3.806420  6.304415\n",
      "38                    0.955492                   3.806420  5.775718\n",
      "39                    1.635504                   3.806420  6.115581\n",
      "40                    2.056795                   3.806420  6.414777\n"
     ]
    }
   ],
   "source": [
    "# Accessing `cpitch.information.content`, `onset.information.content`, `entropy` for '\"chor-002\"'\n",
    "\n",
    "selected_idyom_outputs = selected_melody.access_idyom_output_keywords(['cpitch.information.content',\n",
    "                                                                      'onset.information.content',\n",
    "                                                                      'entropy'])\n",
    "\n",
    "print(selected_idyom_outputs)"
   ]
  },
  {
   "cell_type": "code",
   "execution_count": null,
   "id": "75998a8d",
   "metadata": {},
   "outputs": [],
   "source": []
  },
  {
   "cell_type": "code",
   "execution_count": null,
   "id": "6b80ae77",
   "metadata": {},
   "outputs": [],
   "source": []
  },
  {
   "cell_type": "code",
   "execution_count": null,
   "id": "50055290",
   "metadata": {},
   "outputs": [],
   "source": []
  },
  {
   "cell_type": "code",
   "execution_count": null,
   "id": "7e2ebdce",
   "metadata": {},
   "outputs": [],
   "source": []
  },
  {
   "cell_type": "code",
   "execution_count": null,
   "id": "339e7ca5",
   "metadata": {},
   "outputs": [],
   "source": []
  }
 ],
 "metadata": {
  "kernelspec": {
   "display_name": "Python 3 (ipykernel)",
   "language": "python",
   "name": "python3"
  },
  "language_info": {
   "codemirror_mode": {
    "name": "ipython",
    "version": 3
   },
   "file_extension": ".py",
   "mimetype": "text/x-python",
   "name": "python",
   "nbconvert_exporter": "python",
   "pygments_lexer": "ipython3",
   "version": "3.10.0"
  }
 },
 "nbformat": 4,
 "nbformat_minor": 5
}
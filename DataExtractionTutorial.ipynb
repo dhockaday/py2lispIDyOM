{
 "cells": [
  {
   "cell_type": "code",
   "execution_count": 126,
   "metadata": {},
   "outputs": [],
   "source": [
    "import os\n",
    "import scipy.io\n",
    "import numpy as np\n",
    "from run import RunJupyterExperiment\n",
    "import data_extractor\n",
    "from glob import glob"
   ]
  },
  {
   "cell_type": "markdown",
   "metadata": {},
   "source": [
    "# Section1: run experiment"
   ]
  },
  {
   "cell_type": "markdown",
   "metadata": {},
   "source": [
    "You need to sepcify your paths in this block."
   ]
  },
  {
   "cell_type": "code",
   "execution_count": 2,
   "metadata": {},
   "outputs": [],
   "source": [
    "experiment_history_folder = 'experiment_history/'\n",
    "training_folder_path = './dataset/bach_dataset/'\n",
    "test_folder_path = './dataset/shanx_dataset/'"
   ]
  },
  {
   "cell_type": "markdown",
   "metadata": {},
   "source": [
    "You don't need to change anything in the following block."
   ]
  },
  {
   "cell_type": "code",
   "execution_count": 3,
   "metadata": {},
   "outputs": [],
   "source": [
    "configurations = {\n",
    "    'experiment_history_folder':experiment_history_folder,\n",
    "    'train_test_path':[\n",
    "    training_folder_path,\n",
    "    test_folder_path, \n",
    "    ],\n",
    "    'trainp':None,\n",
    "}\n",
    "\n"
   ]
  },
  {
   "cell_type": "code",
   "execution_count": 4,
   "metadata": {},
   "outputs": [
    {
     "name": "stdout",
     "output_type": "stream",
     "text": [
      "using distinct trainning and test paths\n",
      "** Succesfully created experiment folder! **\n",
      "** Created and modified temp lisp file **\n",
      "** running lisp **\n",
      " \n",
      "** we got here! done! **\n"
     ]
    }
   ],
   "source": [
    "RunJupyterExperiment(configurations)"
   ]
  },
  {
   "cell_type": "code",
   "execution_count": null,
   "metadata": {},
   "outputs": [],
   "source": []
  },
  {
   "cell_type": "markdown",
   "metadata": {},
   "source": [
    "# Section2: extracting data\n"
   ]
  },
  {
   "cell_type": "markdown",
   "metadata": {},
   "source": [
    "load the experiment data we just run above"
   ]
  },
  {
   "cell_type": "code",
   "execution_count": 5,
   "metadata": {},
   "outputs": [
    {
     "name": "stderr",
     "output_type": "stream",
     "text": [
      "100%|██████████| 971/971 [00:00<00:00, 6048.11it/s]\n"
     ]
    }
   ],
   "source": [
    "newest_experiment_history_path = sorted(glob(experiment_history_folder+'*'))[-1]+'/' # sorted the order of the list\n",
    "selected_experiment_history_path = newest_experiment_history_path\n",
    "dat_file_path = sorted(glob(selected_experiment_history_path+'experiment_output_data_folder/*'))[0]\n",
    "all_song_dict = data_extractor.get_all_song_dict_from_dat(dat_file_path)\n"
   ]
  },
  {
   "cell_type": "markdown",
   "metadata": {},
   "source": [
    "choose which song you want to inspect by specifying the index "
   ]
  },
  {
   "cell_type": "markdown",
   "metadata": {
    "pycharm": {
     "name": "#%% md\n"
    }
   },
   "source": [
    "# Single song feature extraction ( Jump to next section if you need batch extraction )"
   ]
  },
  {
   "cell_type": "code",
   "execution_count": 6,
   "metadata": {
    "pycharm": {
     "name": "#%%\n"
    }
   },
   "outputs": [],
   "source": [
    "choose_song_index = 0                                             \n",
    "song_dict_of_interest= list(all_song_dict.values())[choose_song_index] # one of the testing song result info."
   ]
  },
  {
   "cell_type": "markdown",
   "metadata": {
    "pycharm": {
     "name": "#%% md\n"
    }
   },
   "source": [
    "- run this block to get ```aligned_surprise_with_onset```"
   ]
  },
  {
   "cell_type": "code",
   "execution_count": 19,
   "metadata": {
    "pycharm": {
     "name": "#%%\n"
    }
   },
   "outputs": [],
   "source": [
    "#aligned_surprise_with_onset = data_extractor.get_aligned_surprise_with_onset_from_song_dict(song_dict_of_interest)\n",
    "\n",
    "#print('aligned_surprise_with_onset: \\n')\n",
    "#print(aligned_surprise_with_onset)"
   ]
  },
  {
   "cell_type": "markdown",
   "metadata": {
    "pycharm": {
     "name": "#%% md\n"
    }
   },
   "source": [
    "- run this block to get ```surprise_sequence```"
   ]
  },
  {
   "cell_type": "code",
   "execution_count": 20,
   "metadata": {
    "pycharm": {
     "name": "#%%\n"
    }
   },
   "outputs": [],
   "source": [
    "#surprise_sequence = data_extractor.get_surprise_from_song_dict(song_dict_of_interest)\n",
    "\n",
    "#print('surprise_sequence: \\n')\n",
    "#print(surprise_sequence)"
   ]
  },
  {
   "cell_type": "markdown",
   "metadata": {
    "pycharm": {
     "name": "#%% md\n"
    }
   },
   "source": [
    "- run this block to get ```note_distribution```"
   ]
  },
  {
   "cell_type": "code",
   "execution_count": 21,
   "metadata": {
    "pycharm": {
     "name": "#%%\n"
    }
   },
   "outputs": [],
   "source": [
    "#note_distribution = data_extractor.get_note_distribution_from_song_dict(song_dict_of_interest)\n",
    "\n",
    "#print('note_distribution: \\n')\n",
    "#print(note_distribution)"
   ]
  },
  {
   "cell_type": "markdown",
   "metadata": {
    "pycharm": {
     "name": "#%% md\n"
    }
   },
   "source": [
    "- run this block to get ```onset_sequence```"
   ]
  },
  {
   "cell_type": "code",
   "execution_count": 22,
   "metadata": {
    "pycharm": {
     "name": "#%%\n"
    }
   },
   "outputs": [],
   "source": [
    "#onset_sequence = data_extractor.get_onset_from_song_dict(song_dict_of_interest)\n",
    "\n",
    "#print('onset_sequence: \\n')\n",
    "#print(onset_sequence)"
   ]
  },
  {
   "cell_type": "markdown",
   "metadata": {
    "pycharm": {
     "name": "#%% md\n"
    }
   },
   "source": [
    "# Batch feature extraction"
   ]
  },
  {
   "cell_type": "code",
   "execution_count": 115,
   "metadata": {
    "pycharm": {
     "name": "#%%\n"
    }
   },
   "outputs": [],
   "source": [
    "def song_wise_extraction(song_dict,extraction_methods):\n",
    "    single_song_data = []\n",
    "    for extraction in extraction_methods:\n",
    "        feature = extraction(song_dict).tolist()\n",
    "        single_song_data.append(feature)\n",
    "    #single_song_data = np.array(single_song_data,dtype=object)\n",
    "    return single_song_data\n",
    "\n",
    "def dataset_wise_extraction(all_song_dict,extraction_methods):\n",
    "    all_song_data = []\n",
    "    for index,song_dict in all_song_dict.items():\n",
    "        single_song_data = song_wise_extraction(song_dict,extraction_methods)\n",
    "        all_song_data.append(single_song_data)\n",
    "    all_song_data = np.array(all_song_data,dtype=object)\n",
    "    return all_song_data\n",
    "\n",
    "features_method_name_dict = {\n",
    "    'aligned_surprise_with_onset':data_extractor.get_aligned_surprise_with_onset_from_song_dict,\n",
    "    'surprise': data_extractor.get_surprise_from_song_dict,\n",
    "    'onset': data_extractor.get_onset_from_song_dict,\n",
    "    'note_distribution':data_extractor.get_note_distribution_from_song_dict,\n",
    "}\n",
    "\n",
    "dict_access_keys = lambda dic,l:[dic[x] for x in l]"
   ]
  },
  {
   "cell_type": "markdown",
   "metadata": {
    "pycharm": {
     "name": "#%% md\n"
    }
   },
   "source": [
    "## Specify a list of feautures to extract (the available ones are in features_method_name_dict)."
   ]
  },
  {
   "cell_type": "code",
   "execution_count": null,
   "outputs": [],
   "source": [
    "my_choice_of_extraction = [\n",
    "    'aligned_surprise_with_onset',\n",
    "    'surprise',\n",
    "    'onset',\n",
    "    'note_distribution',\n",
    "]\n",
    "\n",
    "data_to_export = dataset_wise_extraction(all_song_dict,dict_access_keys(features_method_name_dict,my_choice_of_extraction)).T"
   ],
   "metadata": {
    "collapsed": false,
    "pycharm": {
     "name": "#%%\n"
    }
   }
  },
  {
   "cell_type": "markdown",
   "source": [
    "# Export data of interest to file"
   ],
   "metadata": {
    "collapsed": false
   }
  },
  {
   "cell_type": "code",
   "execution_count": null,
   "outputs": [],
   "source": [
    "def export(path,data):\n",
    "    for i,feature in enumerate(data_to_export):\n",
    "        feature_name = list(features_method_name_dict.keys())[i]\n",
    "        scipy.io.savemat(path+feature_name+'.mat', mdict={feature_name: np.array(feature)})"
   ],
   "metadata": {
    "collapsed": false,
    "pycharm": {
     "name": "#%%\n"
    }
   }
  },
  {
   "cell_type": "markdown",
   "source": [
    "specify destination for exporting the file containing the data above\n",
    "\n",
    "do the export"
   ],
   "metadata": {
    "collapsed": false
   }
  },
  {
   "cell_type": "code",
   "execution_count": null,
   "outputs": [],
   "source": [
    "your_file_path = selected_experiment_history_path\n",
    "export(your_file_path,data_to_export)"
   ],
   "metadata": {
    "collapsed": false,
    "pycharm": {
     "name": "#%%\n"
    }
   }
  },
  {
   "cell_type": "markdown",
   "source": [],
   "metadata": {
    "collapsed": false
   }
  },
  {
   "cell_type": "code",
   "execution_count": 122,
   "metadata": {},
   "outputs": [],
   "source": []
  },
  {
   "cell_type": "markdown",
   "metadata": {},
   "source": [
    "# Export data of interest to file"
   ]
  },
  {
   "cell_type": "code",
   "execution_count": 128,
   "metadata": {},
   "outputs": [],
   "source": [
    "def export(path,data):\n",
    "    for i,feature in enumerate(data_to_export):\n",
    "        feature_name = list(features_method_name_dict.keys())[i]\n",
    "        scipy.io.savemat(path+feature_name+'.mat', mdict={feature_name: np.array(feature)})"
   ]
  },
  {
   "cell_type": "markdown",
   "metadata": {},
   "source": [
    "specify destination for exporting the file containing the data above\n",
    "\n",
    "do the export"
   ]
  },
  {
   "cell_type": "code",
   "execution_count": 129,
   "metadata": {},
   "outputs": [],
   "source": [
    "your_file_path = selected_experiment_history_path\n",
    "export(your_file_path,data_to_export)"
   ]
  },
  {
   "cell_type": "markdown",
   "metadata": {},
   "source": []
  }
 ],
 "metadata": {
  "kernelspec": {
   "display_name": "Python 3",
   "language": "python",
   "name": "python3"
  },
  "language_info": {
   "codemirror_mode": {
    "name": "ipython",
    "version": 3
   },
   "file_extension": ".py",
   "mimetype": "text/x-python",
   "name": "python",
   "nbconvert_exporter": "python",
   "pygments_lexer": "ipython3",
   "version": "3.7.3"
  }
 },
 "nbformat": 4,
 "nbformat_minor": 2
}
{
 "cells": [
  {
   "cell_type": "code",
   "execution_count": null,
   "outputs": [],
   "source": [
    "import os\n",
    "import scipy.io\n",
    "import numpy as np\n",
    "from run import RunJupyterExperiment\n",
    "import data_extractor\n",
    "from glob import glob"
   ],
   "metadata": {
    "collapsed": false,
    "pycharm": {
     "name": "#%%\n"
    }
   }
  },
  {
   "cell_type": "markdown",
   "source": [
    "# Section1: run experiment"
   ],
   "metadata": {
    "collapsed": false
   }
  },
  {
   "cell_type": "markdown",
   "source": [
    "You need to specify your paths in this block."
   ],
   "metadata": {
    "collapsed": false
   }
  },
  {
   "cell_type": "code",
   "execution_count": null,
   "outputs": [],
   "source": [
    "experiment_history_folder = 'experiment_history/'\n",
    "training_folder_path = './dataset/bach_dataset/'\n",
    "test_folder_path = './dataset/shanx_dataset/'"
   ],
   "metadata": {
    "collapsed": false,
    "pycharm": {
     "name": "#%%\n"
    }
   }
  },
  {
   "cell_type": "markdown",
   "source": [
    "You don't need to change anything in the following block."
   ],
   "metadata": {
    "collapsed": false
   }
  },
  {
   "cell_type": "code",
   "execution_count": null,
   "outputs": [],
   "source": [
    "configurations = {\n",
    "    'experiment_history_folder':experiment_history_folder,\n",
    "    'train_test_path':[\n",
    "    training_folder_path,\n",
    "    test_folder_path, \n",
    "    ],\n",
    "    'trainp':None,\n",
    "}\n",
    "\n"
   ],
   "metadata": {
    "collapsed": false,
    "pycharm": {
     "name": "#%%\n"
    }
   }
  },
  {
   "cell_type": "code",
   "execution_count": null,
   "outputs": [],
   "source": [
    "RunJupyterExperiment(configurations)"
   ],
   "metadata": {
    "collapsed": false,
    "pycharm": {
     "name": "#%%\n"
    }
   }
  },
  {
   "cell_type": "markdown",
   "source": [
    "# Section2: extracting data\n"
   ],
   "metadata": {
    "collapsed": false
   }
  },
  {
   "cell_type": "markdown",
   "source": [
    "load the experiment data we just run above"
   ],
   "metadata": {
    "collapsed": false
   }
  },
  {
   "cell_type": "code",
   "execution_count": null,
   "outputs": [],
   "source": [
    "newest_experiment_history_path = sorted(glob(experiment_history_folder+'*'))[-1]+'/' # sorted the order of the list\n",
    "selected_experiment_history_path = newest_experiment_history_path\n",
    "dat_file_path = sorted(glob(selected_experiment_history_path+'experiment_output_data_folder/*'))[0]\n",
    "all_song_dict = data_extractor.get_all_song_dict_from_dat(dat_file_path)\n"
   ],
   "metadata": {
    "collapsed": false,
    "pycharm": {
     "name": "#%%\n"
    }
   }
  },
  {
   "cell_type": "markdown",
   "source": [
    "choose which song you want to inspect by specifying the index "
   ],
   "metadata": {
    "collapsed": false
   }
  },
  {
   "cell_type": "markdown",
   "source": [
    "# Single song feature extraction ( Jump to next section if you need batch extraction )"
   ],
   "metadata": {
    "collapsed": false
   }
  },
  {
   "cell_type": "code",
   "execution_count": null,
   "outputs": [],
   "source": [
    "choose_song_index = 0                                             \n",
    "song_dict_of_interest= list(all_song_dict.values())[choose_song_index] # one of the testing song result info."
   ],
   "metadata": {
    "collapsed": false,
    "pycharm": {
     "name": "#%%\n"
    }
   }
  },
  {
   "cell_type": "markdown",
   "source": [
    "- run this block to get ```aligned_surprise_with_onset```"
   ],
   "metadata": {
    "collapsed": false
   }
  },
  {
   "cell_type": "code",
   "execution_count": null,
   "outputs": [],
   "source": [
    "aligned_surprise_with_onset = data_extractor.get_aligned_surprise_with_onset_from_song_dict(song_dict_of_interest)\n",
    "\n",
    "print('aligned_surprise_with_onset: \\n')\n",
    "print(aligned_surprise_with_onset)"
   ],
   "metadata": {
    "collapsed": false,
    "pycharm": {
     "name": "#%%\n"
    }
   }
  },
  {
   "cell_type": "markdown",
   "source": [
    "- run this block to get ```surprise_sequence```"
   ],
   "metadata": {
    "collapsed": false
   }
  },
  {
   "cell_type": "code",
   "execution_count": null,
   "outputs": [],
   "source": [
    "surprise_sequence = data_extractor.get_surprise_from_song_dict(song_dict_of_interest)\n",
    "\n",
    "print('surprise_sequence: \\n')\n",
    "print(surprise_sequence)"
   ],
   "metadata": {
    "collapsed": false,
    "pycharm": {
     "name": "#%%\n"
    }
   }
  },
  {
   "cell_type": "markdown",
   "source": [
    "- run this block to get ```note_distribution```"
   ],
   "metadata": {
    "collapsed": false
   }
  },
  {
   "cell_type": "code",
   "execution_count": null,
   "outputs": [],
   "source": [
    "note_distribution = data_extractor.get_note_distribution_from_song_dict(song_dict_of_interest)\n",
    "\n",
    "print('note_distribution: \\n')\n",
    "print(note_distribution)"
   ],
   "metadata": {
    "collapsed": false,
    "pycharm": {
     "name": "#%%\n"
    }
   }
  },
  {
   "cell_type": "markdown",
   "source": [
    "- run this block to get ```onset_sequence```"
   ],
   "metadata": {
    "collapsed": false
   }
  },
  {
   "cell_type": "code",
   "execution_count": null,
   "outputs": [],
   "source": [
    "onset_sequence = data_extractor.get_onset_from_song_dict(song_dict_of_interest)\n",
    "\n",
    "print('onset_sequence: \\n')\n",
    "print(onset_sequence)"
   ],
   "metadata": {
    "collapsed": false,
    "pycharm": {
     "name": "#%%\n"
    }
   }
  },
  {
   "cell_type": "markdown",
   "source": [
    "# Batch feature extraction"
   ],
   "metadata": {
    "collapsed": false
   }
  },
  {
   "cell_type": "code",
   "execution_count": null,
   "outputs": [],
   "source": [
    "def song_wise_extraction(song_dict,extraction_methods):\n",
    "    single_song_data = []\n",
    "    for extraction in extraction_methods:\n",
    "        feature = extraction(song_dict).tolist()\n",
    "        single_song_data.append(feature)\n",
    "    #single_song_data = np.array(single_song_data,dtype=object)\n",
    "    return single_song_data\n",
    "\n",
    "def dataset_wise_extraction(all_song_dict,extraction_methods):\n",
    "    all_song_data = []\n",
    "    for index,song_dict in all_song_dict.items():\n",
    "        single_song_data = song_wise_extraction(song_dict,extraction_methods)\n",
    "        all_song_data.append(single_song_data)\n",
    "    all_song_data = np.array(all_song_data,dtype=object)\n",
    "    return all_song_data\n",
    "\n",
    "features_method_name_dict = {\n",
    "    'aligned_surprise_with_onset':data_extractor.get_aligned_surprise_with_onset_from_song_dict,\n",
    "    'surprise': data_extractor.get_surprise_from_song_dict,\n",
    "    'onset': data_extractor.get_onset_from_song_dict,\n",
    "    'note_distribution':data_extractor.get_note_distribution_from_song_dict,\n",
    "}\n",
    "\n",
    "dict_access_keys = lambda dic,l:[dic[x] for x in l]"
   ],
   "metadata": {
    "collapsed": false,
    "pycharm": {
     "name": "#%%\n"
    }
   }
  },
  {
   "cell_type": "markdown",
   "source": [
    "## Specify a list of feautures to extract (the available ones are in features_method_name_dict)."
   ],
   "metadata": {
    "collapsed": false
   }
  },
  {
   "cell_type": "code",
   "execution_count": null,
   "outputs": [],
   "source": [
    "my_choice_of_extraction = [\n",
    "    'aligned_surprise_with_onset',\n",
    "    'surprise',\n",
    "    'onset',\n",
    "    'note_distribution',\n",
    "]\n",
    "\n",
    "data_to_export = dataset_wise_extraction(all_song_dict,dict_access_keys(features_method_name_dict,my_choice_of_extraction)).T\n"
   ],
   "metadata": {
    "collapsed": false,
    "pycharm": {
     "name": "#%%\n"
    }
   }
  },
  {
   "cell_type": "markdown",
   "source": [
    "## Export data of interest to file"
   ],
   "metadata": {
    "collapsed": false
   }
  },
  {
   "cell_type": "code",
   "execution_count": null,
   "outputs": [],
   "source": [
    "def export(path,data):\n",
    "    for i,feature in enumerate(data_to_export):\n",
    "        feature_name = list(features_method_name_dict.keys())[i]\n",
    "        scipy.io.savemat(path+feature_name+'.mat', mdict={feature_name: np.array(feature)})\n",
    "    print('exported data to '+path )"
   ],
   "metadata": {
    "collapsed": false,
    "pycharm": {
     "name": "#%%\n"
    }
   }
  },
  {
   "cell_type": "markdown",
   "source": [
    "Specify destination for exporting the file containing the data above\n",
    "\n",
    "do the export"
   ],
   "metadata": {
    "collapsed": false
   }
  },
  {
   "cell_type": "code",
   "execution_count": null,
   "outputs": [],
   "source": [
    "your_file_path = selected_experiment_history_path\n",
    "export(your_file_path,data_to_export)"
   ],
   "metadata": {
    "collapsed": false,
    "pycharm": {
     "name": "#%%\n"
    }
   }
  }
 ],
 "metadata": {
  "kernelspec": {
   "display_name": "Python 3",
   "language": "python",
   "name": "python3"
  },
  "language_info": {
   "codemirror_mode": {
    "name": "ipython",
    "version": 3
   },
   "file_extension": ".py",
   "mimetype": "text/x-python",
   "name": "python",
   "nbconvert_exporter": "python",
   "pygments_lexer": "ipython3",
   "version": "3.7.3"
  }
 },
 "nbformat": 4,
 "nbformat_minor": 2
}
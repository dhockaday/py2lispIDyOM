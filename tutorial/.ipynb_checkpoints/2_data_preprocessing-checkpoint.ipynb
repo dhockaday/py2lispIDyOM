{
 "cells": [
  {
   "cell_type": "markdown",
   "id": "a2096734",
   "metadata": {},
   "source": [
    "# Data preprocessing\n",
    "\n",
    "This tutorial will cover how to extract certain IDyOM outputs (for analysis in python) and export them in different\n",
    "formats in py2lispIDyOM. For an overview of the py2lispIDyOM functionality, see the [README](../README.md).\n",
    "\n"
   ]
  },
  {
   "cell_type": "markdown",
   "id": "f03aa743",
   "metadata": {},
   "source": [
    "## 1. Extracting IDyOM output data\n",
    "\n",
    "\n",
    "Given that you already have the `.dat` file output, you can extract certain properties of certain melodies from that file. \n",
    "\n",
    "To start, users need to indicate the experiment log folder that you want to work with by providing the log\n",
    "path `experiment_folder_path` for the `ExperimentInfo` object."
   ]
  },
  {
   "cell_type": "markdown",
   "id": "3d7a771f",
   "metadata": {},
   "source": [
    "In this sample example, we will\n",
    "- extract \n"
   ]
  },
  {
   "cell_type": "code",
   "execution_count": null,
   "id": "d4285472",
   "metadata": {},
   "outputs": [],
   "source": []
  },
  {
   "cell_type": "code",
   "execution_count": null,
   "id": "333ce80d",
   "metadata": {},
   "outputs": [],
   "source": []
  },
  {
   "cell_type": "code",
   "execution_count": null,
   "id": "2f906ec2",
   "metadata": {},
   "outputs": [],
   "source": []
  },
  {
   "cell_type": "code",
   "execution_count": null,
   "id": "148ebeef",
   "metadata": {},
   "outputs": [],
   "source": []
  },
  {
   "cell_type": "code",
   "execution_count": null,
   "id": "1a50bc08",
   "metadata": {},
   "outputs": [],
   "source": []
  },
  {
   "cell_type": "code",
   "execution_count": null,
   "id": "daf2adc2",
   "metadata": {},
   "outputs": [],
   "source": []
  },
  {
   "cell_type": "code",
   "execution_count": null,
   "id": "65337f90",
   "metadata": {},
   "outputs": [],
   "source": []
  },
  {
   "cell_type": "code",
   "execution_count": null,
   "id": "c0d957cc",
   "metadata": {},
   "outputs": [],
   "source": []
  },
  {
   "cell_type": "code",
   "execution_count": null,
   "id": "c44820cc",
   "metadata": {},
   "outputs": [],
   "source": []
  },
  {
   "cell_type": "code",
   "execution_count": null,
   "id": "16345b51",
   "metadata": {},
   "outputs": [],
   "source": []
  },
  {
   "cell_type": "code",
   "execution_count": null,
   "id": "de35122a",
   "metadata": {},
   "outputs": [],
   "source": []
  },
  {
   "cell_type": "code",
   "execution_count": null,
   "id": "ea9a6616",
   "metadata": {},
   "outputs": [],
   "source": []
  },
  {
   "cell_type": "code",
   "execution_count": null,
   "id": "75998a8d",
   "metadata": {},
   "outputs": [],
   "source": []
  },
  {
   "cell_type": "code",
   "execution_count": null,
   "id": "6b80ae77",
   "metadata": {},
   "outputs": [],
   "source": []
  },
  {
   "cell_type": "code",
   "execution_count": null,
   "id": "50055290",
   "metadata": {},
   "outputs": [],
   "source": []
  },
  {
   "cell_type": "code",
   "execution_count": null,
   "id": "7e2ebdce",
   "metadata": {},
   "outputs": [],
   "source": []
  },
  {
   "cell_type": "code",
   "execution_count": null,
   "id": "339e7ca5",
   "metadata": {},
   "outputs": [],
   "source": []
  }
 ],
 "metadata": {
  "kernelspec": {
   "display_name": "Python 3",
   "language": "python",
   "name": "python3"
  },
  "language_info": {
   "codemirror_mode": {
    "name": "ipython",
    "version": 3
   },
   "file_extension": ".py",
   "mimetype": "text/x-python",
   "name": "python",
   "nbconvert_exporter": "python",
   "pygments_lexer": "ipython3",
   "version": "3.8.8"
  }
 },
 "nbformat": 4,
 "nbformat_minor": 5
}

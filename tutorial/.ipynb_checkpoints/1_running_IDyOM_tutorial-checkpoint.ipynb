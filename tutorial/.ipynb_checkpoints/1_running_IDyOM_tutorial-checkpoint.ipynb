{
 "cells": [
  {
   "cell_type": "markdown",
   "id": "0f849f81",
   "metadata": {},
   "source": [
    "# Running IDyOM Tutorial\n",
    "\n",
    "This tutorial will walk you through how to run the IDyOM model in py2lispIDyOM. For an overview of the py2lispIDyOM\n",
    "functionality, see the [README](../README.md).\n",
    "\n",
    "Generally speaking, to run the IDyOM model with py2lispIDyOM usually takes three steps:\n",
    "\n",
    "1. Set experiment configuration (paths to input music files and to output experiment log.\n",
    "\n",
    "2. Set model configuration (model parameters,\n",
    "   see  [IDyOM parameters documentation](https://github.com/mtpearce/idyom/wiki/IDyOM-Parameters) for more detail).\n",
    "   \n",
    "3. Run the experiment."
   ]
  },
  {
   "cell_type": "markdown",
   "id": "2488c66c",
   "metadata": {},
   "source": [
    "In this sample experiment, \n",
    "- we will have the model pretrain on a chinese corpus ('shanx_dataset/') and test the model on the european corpus ('bach_dataset/').\n",
    "\n",
    "- the viewpoints to predict (target viewpoint) and the viewpoints to use in prediction (source viewpoint) are both cpitch and onset.\n",
    "\n",
    "- we will use the ':both' model, and we don't want resampling (i.e., k=1)."
   ]
  },
  {
   "cell_type": "markdown",
   "id": "9b958320",
   "metadata": {},
   "source": [
    "## Step-by-Step"
   ]
  },
  {
   "cell_type": "code",
   "execution_count": null,
   "id": "7db543b5",
   "metadata": {},
   "outputs": [],
   "source": [
    "#  import relevant modules\n",
    "from py2lispIDyOM.run import IDyOMExperiment"
   ]
  },
  {
   "cell_type": "markdown",
   "id": "05d3fafe",
   "metadata": {},
   "source": [
    "### 1. Set experiment configuration:\n",
    "\n",
    "First, we set the IDyOM experiment configurations by providing the relevant paths to the `IDyOMExperiment`.\n",
    "\n",
    "```python3\n",
    "class IDyOMExperiment(test_dataset_path,\n",
    "                      pretrain_dataset_path=None,\n",
    "                      experiment_history_folder_path=None)\n",
    "```"
   ]
  },
  {
   "cell_type": "code",
   "execution_count": null,
   "id": "d12deb21",
   "metadata": {},
   "outputs": [],
   "source": [
    "my_experiment = IDyOMExperiment(test_dataset_path='dataset/bach_dataset/',\n",
    "                                pretrain_dataset_path='dataset/shanx_dataset/',\n",
    "                                experiment_history_folder_path='')"
   ]
  },
  {
   "cell_type": "markdown",
   "id": "928aeb5d",
   "metadata": {},
   "source": [
    "### 2. Set model parameters:\n",
    "\n",
    "Next, we set the model parameters using the `set_parameters` methods.\n",
    "\n",
    "```python3\n",
    "class IDyOMExperiment.set_parameters(target_viewpoints, source_viewpoints,\n",
    "                                     ...)\n",
    "\n",
    "```\n",
    "For a comprehensive list of valid model parameters, please see the documentation. \n",
    "\n",
    "For detailed description of the model parameters, please refer to\n",
    "the [IDyOM parameters documentation](https://github.com/mtpearce/idyom/wiki/IDyOM-Parameters).\n"
   ]
  },
  {
   "cell_type": "code",
   "execution_count": null,
   "id": "8dbcf353",
   "metadata": {},
   "outputs": [],
   "source": [
    "my_experiment.set_parameters(target_viewpoints=['cpitch', 'onset'],\n",
    "                             source_viewpoints=['cpitch', 'onset'],\n",
    "                             models=':both',\n",
    "                             k=1,\n",
    "                             detail=3)"
   ]
  },
  {
   "cell_type": "markdown",
   "id": "3ecef31e",
   "metadata": {},
   "source": [
    "###  3. Run IDyOM model:\n",
    "\n",
    "To run the IDyOM model, simply call the `IDyOMExperiment.run()` method.\n"
   ]
  },
  {
   "cell_type": "code",
   "execution_count": null,
   "id": "9bec5b7c",
   "metadata": {},
   "outputs": [],
   "source": [
    "my_experiment.run()"
   ]
  },
  {
   "cell_type": "code",
   "execution_count": null,
   "id": "04d42376",
   "metadata": {},
   "outputs": [],
   "source": []
  },
  {
   "cell_type": "markdown",
   "id": "cdc7e0f8",
   "metadata": {},
   "source": [
    "## What happens then?\n",
    "\n",
    "py2lispIDyOM will automatically create a folder\n",
    "(with the timestamp of experiment time as the folder name) logging all data of the current experiment. For details of\n",
    "the experiment log folder, see the Experiment Logger section in [README](README.md).\n",
    "\n",
    "After finish running the model, the model output (a `.dat` file will be saved in the current experiment log folder under\n",
    "'experiment_output_data_folder/').\n",
    "\n",
    "From here on, you can extract the relevant IDyOM outputs or export them in other formats for further analysis.\n"
   ]
  },
  {
   "cell_type": "code",
   "execution_count": null,
   "id": "3a32d266",
   "metadata": {},
   "outputs": [],
   "source": []
  },
  {
   "cell_type": "code",
   "execution_count": null,
   "id": "d61e2a13",
   "metadata": {},
   "outputs": [],
   "source": []
  },
  {
   "cell_type": "code",
   "execution_count": null,
   "id": "3be5cd19",
   "metadata": {},
   "outputs": [],
   "source": []
  },
  {
   "cell_type": "code",
   "execution_count": null,
   "id": "55490f97",
   "metadata": {},
   "outputs": [],
   "source": []
  },
  {
   "cell_type": "code",
   "execution_count": null,
   "id": "910a1661",
   "metadata": {},
   "outputs": [],
   "source": []
  }
 ],
 "metadata": {
  "kernelspec": {
   "display_name": "Python 3",
   "language": "python",
   "name": "python3"
  },
  "language_info": {
   "codemirror_mode": {
    "name": "ipython",
    "version": 3
   },
   "file_extension": ".py",
   "mimetype": "text/x-python",
   "name": "python",
   "nbconvert_exporter": "python",
   "pygments_lexer": "ipython3",
   "version": "3.8.8"
  }
 },
 "nbformat": 4,
 "nbformat_minor": 5
}

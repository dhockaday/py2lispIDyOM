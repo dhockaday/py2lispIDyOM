{
 "cells": [
  {
   "cell_type": "markdown",
   "id": "dbec650d",
   "metadata": {},
   "source": [
    "# Exporting IDyOM outputs\n",
    "\n",
    "Given that you already have the `.dat` file output, you can export certain properties of certain melodies from that file in different formats. "
   ]
  },
  {
   "cell_type": "markdown",
   "id": "0ea4d49d",
   "metadata": {},
   "source": [
    "### Import relevant modules"
   ]
  },
  {
   "cell_type": "code",
   "execution_count": 1,
   "id": "b4c2bf79",
   "metadata": {},
   "outputs": [],
   "source": [
    "from modules.export import Export"
   ]
  },
  {
   "cell_type": "markdown",
   "id": "aab60af0",
   "metadata": {},
   "source": [
    "### 1. Export to `.mat` files"
   ]
  },
  {
   "cell_type": "markdown",
   "id": "e31a4f3b",
   "metadata": {},
   "source": [
    "#### 1.1 Export certain properties of certain melodies\n",
    "\n",
    "In this example, we will export the 3 chosen properties(`melody.name`,`information.content`, and `entropy`) of the chosen melodies named ('\"chor-001\"', '\"chor-008\"', '\"chor-012\"') in the experiment logger `16-05-22_14.01.03/`\n",
    "\n",
    "The output `.mat` files will be save under the `outputs_in_mat/` folder in the experiment logger.\n",
    "Each `.mat` file is named after the combination of the melody name and property extracted."
   ]
  },
  {
   "cell_type": "code",
   "execution_count": 2,
   "id": "bdc58add",
   "metadata": {},
   "outputs": [
    {
     "name": "stdout",
     "output_type": "stream",
     "text": [
      "Exported data to examples/1_sample_experiment/16-05-22_14.01.03/outputs_in_mat/\n",
      "Exported data to examples/1_sample_experiment/16-05-22_14.01.03/outputs_in_mat/\n"
     ]
    }
   ],
   "source": [
    "# define the parameters for the export\n",
    "export_mat_1 = Export(experiment_folder_path='examples/1_sample_experiment/16-05-22_14.01.03/',\n",
    "                      properties_to_export=['melody.name', 'information.content', 'entropy'],\n",
    "                      melody_names=['\"chor-001\"', '\"chor-003\"'])\n",
    "\n",
    "# use the export2mat() method\n",
    "export_mat_1.export2mat()"
   ]
  },
  {
   "cell_type": "markdown",
   "id": "10700d96",
   "metadata": {},
   "source": [
    "The output files are:\n",
    "\n",
    "- chor001_entropy.mat\n",
    "- chor001_information_content.mat\n",
    "- chor001_melody_name.mat\n",
    "- chor003_entropy.mat\n",
    "- chor003_information_content.mat\n",
    "- chor003_melody_name.mat\n"
   ]
  },
  {
   "cell_type": "markdown",
   "id": "133221f5",
   "metadata": {},
   "source": [
    "#### 1.2 Export certain properties of all melodies\n",
    "\n",
    "If you want to export certain properties of all melodies, you don't need to specify the `melody_name`.\n",
    "\n",
    "In this example, we will export the same 3 chosen properties(`melody_name`,`information.content`, and `entropy`) of all melodies in the experiment logger `16-05-22_14.01.03/`\n",
    "\n",
    "Each `.mat` file contains the property values for all melodies, and the file is named after the property name."
   ]
  },
  {
   "cell_type": "code",
   "execution_count": 3,
   "id": "0837aac3",
   "metadata": {},
   "outputs": [
    {
     "name": "stdout",
     "output_type": "stream",
     "text": [
      "Exported data to examples/1_sample_experiment/16-05-22_14.01.03/outputs_in_mat/\n"
     ]
    }
   ],
   "source": [
    "# define the parameters for the export\n",
    "## to export properties of all melodies, simply leave the melody_name parameter as blank.\n",
    "export_mat_2 = Export(experiment_folder_path='examples/1_sample_experiment/16-05-22_14.01.03/',\n",
    "                      properties_to_export=['melody.name', 'information.content', 'entropy'])\n",
    "\n",
    "# use the export2mat() method\n",
    "export_mat_2.export2mat()"
   ]
  },
  {
   "cell_type": "markdown",
   "id": "ef035272",
   "metadata": {},
   "source": [
    "The output files are:\n",
    "\n",
    "- entropy.mat\n",
    "- information.content.mat\n",
    "- melody.name.mat"
   ]
  },
  {
   "cell_type": "markdown",
   "id": "ffa1716a",
   "metadata": {},
   "source": [
    "### 2. Export to `.csv` files\n",
    "\n",
    "##### Remarks:\n",
    "\n",
    "The `export2csv()` in py2lispIDyOM only support export all properties of the chosen or all melodies. "
   ]
  },
  {
   "cell_type": "markdown",
   "id": "ab79a24e",
   "metadata": {},
   "source": [
    "#### 2.1 Export all properties of certain melodies\n",
    "\n",
    "In this example, we will export all properties of the chosen melodies named ('\"chor-002\"', '\"chor-004\"') in the experiment logger `16-05-22_14.01.03/`\n",
    "\n",
    "The output `.csv` files will be save under the `outputs_in_csv/` folder in the experiment logger.\n",
    "Each `.csv` file is named after the melody name.\n"
   ]
  },
  {
   "cell_type": "code",
   "execution_count": 4,
   "id": "ac35938d",
   "metadata": {},
   "outputs": [
    {
     "name": "stdout",
     "output_type": "stream",
     "text": [
      "Exported data to examples/1_sample_experiment/16-05-22_14.01.03/outputs_in_csv/\n"
     ]
    }
   ],
   "source": [
    "# define the parameters for the export\n",
    "export_csv_1 = Export(experiment_folder_path='examples/1_sample_experiment/16-05-22_14.01.03/',\n",
    "                      melody_names=['\"chor-002\"', '\"chor-004\"'])\n",
    "\n",
    "# use the export2mat() method\n",
    "export_csv_1.export2csv()"
   ]
  },
  {
   "cell_type": "markdown",
   "id": "7050cac1",
   "metadata": {},
   "source": [
    "The output files are: \n",
    "- chor-002.csv\n",
    "- chor-004.csv"
   ]
  },
  {
   "cell_type": "markdown",
   "id": "094992ac",
   "metadata": {},
   "source": [
    "#### 2.1 Export all properties of all melodies\n",
    "\n",
    "In this example, we will export all properties of all melodies in the experiment logger `16-05-22_14.01.03/`\n",
    "\n",
    "Reminder: If you want to export properties of all melodies, you don't need to specify the `melody_name`."
   ]
  },
  {
   "cell_type": "code",
   "execution_count": 5,
   "id": "6023d6c4",
   "metadata": {},
   "outputs": [
    {
     "name": "stdout",
     "output_type": "stream",
     "text": [
      "Exported data to examples/1_sample_experiment/16-05-22_14.01.03/outputs_in_csv/\n"
     ]
    }
   ],
   "source": [
    "# define the parameters for the export\n",
    "export_csv_1 = Export(experiment_folder_path='examples/1_sample_experiment/16-05-22_14.01.03/')\n",
    "\n",
    "# use the export2mat() method\n",
    "export_csv_1.export2csv()"
   ]
  },
  {
   "cell_type": "code",
   "execution_count": null,
   "id": "db90b26e",
   "metadata": {},
   "outputs": [],
   "source": []
  }
 ],
 "metadata": {
  "kernelspec": {
   "display_name": "Python 3",
   "language": "python",
   "name": "python3"
  },
  "language_info": {
   "codemirror_mode": {
    "name": "ipython",
    "version": 3
   },
   "file_extension": ".py",
   "mimetype": "text/x-python",
   "name": "python",
   "nbconvert_exporter": "python",
   "pygments_lexer": "ipython3",
   "version": "3.8.8"
  }
 },
 "nbformat": 4,
 "nbformat_minor": 5
}